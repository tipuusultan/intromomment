{
 "cells": [
  {
   "cell_type": "code",
   "execution_count": null,
   "id": "b1f2809b",
   "metadata": {},
   "outputs": [],
   "source": [
    "from selenium import webdriver\n",
    "\n",
    "driver = webdriver.Chrome('C:\\chromedriver.exe')\n",
    "driver.get('https://channelcrawler.com/')"
   ]
  },
  {
   "cell_type": "code",
   "execution_count": null,
   "id": "a1f1d532",
   "metadata": {},
   "outputs": [],
   "source": [
    "from selenium.webdriver.support.ui import Select\n",
    "from time import sleep\n",
    "\n",
    "InputCategory = str(input('Enter Channel Category: '))\n",
    "\n",
    "# selecting category\n",
    "\n",
    "input_cat = driver.find_element_by_xpath('//*[@id=\"collapseOne\"]/div/div/div[1]/div[2]/div/div/div[1]/div/span/input')\n",
    "input_cat.click()\n",
    "input_cat.send_keys(InputCategory)\n",
    "sleep(1)\n",
    "driver.find_element_by_xpath('//*[@id=\"collapseOne\"]/div/div/div[1]/div[2]/div/div/div[2]/ul/li').click()"
   ]
  },
  {
   "cell_type": "code",
   "execution_count": 27,
   "id": "efde94bd",
   "metadata": {},
   "outputs": [
    {
     "name": "stderr",
     "output_type": "stream",
     "text": [
      "C:\\Users\\Mr Sultan\\AppData\\Local\\Temp\\ipykernel_11928\\1425095148.py:2: DeprecationWarning: find_element_by_* commands are deprecated. Please use find_element() instead\n",
      "  location_input = driver.find_element_by_xpath('//*[@id=\"collapseOne\"]/div/div/div[1]/div[4]/div/div/div[1]/div/span/input')\n",
      "C:\\Users\\Mr Sultan\\AppData\\Local\\Temp\\ipykernel_11928\\1425095148.py:7: DeprecationWarning: find_element_by_* commands are deprecated. Please use find_element() instead\n",
      "  driver.find_element_by_xpath('//*[@id=\"collapseOne\"]/div/div/div[1]/div[4]/div/div/div[2]/ul/li').click()\n"
     ]
    }
   ],
   "source": [
    "# selecting location\n",
    "location_input = driver.find_element_by_xpath('//*[@id=\"collapseOne\"]/div/div/div[1]/div[4]/div/div/div[1]/div/span/input')\n",
    "location_input.click()\n",
    "\n",
    "location_input.send_keys('hong kong')\n",
    "sleep(1)\n",
    "driver.find_element_by_xpath('//*[@id=\"collapseOne\"]/div/div/div[1]/div[4]/div/div/div[2]/ul/li').click()"
   ]
  },
  {
   "cell_type": "code",
   "execution_count": null,
   "id": "bae1f8f7",
   "metadata": {},
   "outputs": [],
   "source": [
    "min_sub = input(\"Min Subscriber\")\n",
    "max_sub = input(\"Max Subscriber\")\n",
    "\n",
    "MinSubField = driver.find_element_by_id('queryMinSubs')"
   ]
  },
  {
   "cell_type": "code",
   "execution_count": 28,
   "id": "cf96f626",
   "metadata": {},
   "outputs": [
    {
     "name": "stderr",
     "output_type": "stream",
     "text": [
      "C:\\Users\\Mr Sultan\\AppData\\Local\\Temp\\ipykernel_11928\\3193236628.py:3: DeprecationWarning: find_element_by_* commands are deprecated. Please use find_element() instead\n",
      "  sub_btn = driver.find_element_by_xpath('//*[@id=\"queryIndexForm\"]/div[3]/div/button')\n"
     ]
    }
   ],
   "source": [
    "# clicking on submit btn \n",
    "\n",
    "sub_btn = driver.find_element_by_xpath('//*[@id=\"queryIndexForm\"]/div[3]/div/button')\n",
    "sub_btn.click()"
   ]
  },
  {
   "cell_type": "code",
   "execution_count": 29,
   "id": "06f9604b",
   "metadata": {},
   "outputs": [
    {
     "name": "stdout",
     "output_type": "stream",
     "text": [
      "https://channelcrawler.com/eng/results2/467157\n",
      "\u001b[31m1 results found\u001b[0m\n",
      "\u001b[31m2 results found\u001b[0m\n",
      "\u001b[31m3 results found\u001b[0m\n",
      "\u001b[31m4 results found\u001b[0m\n",
      "\u001b[31m5 results found\u001b[0m\n",
      "\u001b[31m6 results found\u001b[0m\n",
      "\u001b[31m7 results found\u001b[0m\n",
      "\u001b[31m8 results found\u001b[0m\n",
      "\u001b[31m9 results found\u001b[0m\n",
      "\u001b[31m10 results found\u001b[0m\n",
      "\u001b[31m11 results found\u001b[0m\n",
      "\u001b[31m12 results found\u001b[0m\n",
      "\u001b[31m13 results found\u001b[0m\n",
      "\u001b[31m14 results found\u001b[0m\n",
      "\u001b[31m15 results found\u001b[0m\n",
      "\u001b[31m16 results found\u001b[0m\n",
      "\u001b[31m17 results found\u001b[0m\n",
      "\u001b[31m18 results found\u001b[0m\n",
      "\u001b[31m19 results found\u001b[0m\n",
      "\u001b[31m20 results found\u001b[0m\n",
      "\u001b[31m21 results found\u001b[0m\n",
      "\u001b[31m22 results found\u001b[0m\n",
      "\u001b[31m23 results found\u001b[0m\n",
      "\u001b[31m24 results found\u001b[0m\n",
      "\u001b[31m25 results found\u001b[0m\n",
      "\u001b[31m26 results found\u001b[0m\n",
      "\u001b[31m27 results found\u001b[0m\n",
      "\u001b[31m28 results found\u001b[0m\n",
      "\u001b[31m29 results found\u001b[0m\n",
      "\u001b[31m30 results found\u001b[0m\n",
      "\u001b[31m31 results found\u001b[0m\n",
      "\u001b[31m32 results found\u001b[0m\n",
      "\u001b[31m33 results found\u001b[0m\n",
      "\u001b[31m34 results found\u001b[0m\n",
      "\u001b[31m35 results found\u001b[0m\n",
      "\u001b[31m36 results found\u001b[0m\n",
      "\u001b[31m37 results found\u001b[0m\n",
      "\u001b[31m38 results found\u001b[0m\n",
      "\u001b[31m39 results found\u001b[0m\n",
      "\u001b[31m40 results found\u001b[0m\n",
      "\u001b[31m41 results found\u001b[0m\n",
      "\u001b[31m42 results found\u001b[0m\n",
      "\u001b[31m43 results found\u001b[0m\n",
      "\u001b[31m44 results found\u001b[0m\n",
      "\u001b[31m45 results found\u001b[0m\n",
      "\u001b[31m46 results found\u001b[0m\n",
      "\u001b[31m47 results found\u001b[0m\n",
      "\u001b[31m48 results found\u001b[0m\n",
      "\u001b[31m49 results found\u001b[0m\n",
      "\u001b[31m50 results found\u001b[0m\n",
      "\u001b[31m51 results found\u001b[0m\n",
      "\u001b[31m52 results found\u001b[0m\n",
      "\u001b[31m53 results found\u001b[0m\n",
      "\u001b[31m54 results found\u001b[0m\n",
      "\u001b[31m55 results found\u001b[0m\n",
      "\u001b[31m56 results found\u001b[0m\n",
      "\u001b[31m57 results found\u001b[0m\n",
      "\u001b[31m58 results found\u001b[0m\n",
      "\u001b[31m59 results found\u001b[0m\n",
      "\u001b[31m60 results found\u001b[0m\n",
      "\u001b[31m61 results found\u001b[0m\n",
      "\u001b[31m62 results found\u001b[0m\n",
      "\u001b[31m63 results found\u001b[0m\n",
      "\u001b[31m64 results found\u001b[0m\n",
      "\u001b[31m65 results found\u001b[0m\n",
      "\u001b[31m66 results found\u001b[0m\n",
      "['關東微喜劇', '小區的傢伙們', '美女妹妹', '9GAG TV', '爆笑三江鍋', '今晚修你皮', 'K Meteor', 'finalkofma', '阿星漫谈', '小貝愛叨叨', '趣问街访', 'Through Family', '試當真Trial & Err...', 'Will Mystery', 'Anime-动画集', 'FLAIR IRON香港調�...', 'Ryu博', 'Amanda Lau', '杨小萌 ', '我睇咗啲乜嘢', 'SadhuSadhuSadhu', 'trulor', '逍遥北说 ', 'Cow', '安仔棟篤笑', 'ricehung29', 'Elton Selimi', 'Waterking', 'flutters', 'MusicSounds', '小剛V狗官', 'lomen huang', '大佬你唔好咁�...', 'Winnie Ho', 'Unknown Substance', '51美术班的日常...', '雞悟空', 'PcTsang', '摩達佛伽', 'Mad Hat', 'Truth-hk. com', '薛文', 'Pizza', 'Xiaoman 小蛮', 'MIKO Smiley', 'wing sum Ho', '男人EEETV', 'westverineP099A', 'Amycoral', 'Love life爱生活', 'S0UL', 'Mad Boys Pranks', '金剛Crew', '怪咖専家leledee', '毀滅劇場 AndrewR...', 'BOMBA Funny_Life', 'Miss Pun', '輕勾Hangout', '語溝 FELLAS', 'GoAlybongo', 'Epic Experiment', 'Stikbot Latino', 'Tommy TSE', '黃子華 Dayo Wong ...', '100%憤怒鳥', '喪Do男']\n",
      "['http://www.youtube.com/channel/UCUIp3QREPMoPtMlLW6ZfxMg', 'http://www.youtube.com/channel/UCgd-589W8KQUD6aFPz6PYQw', 'http://www.youtube.com/channel/UCtOiEVoW7Txm6TEh7I0aXQw', 'http://www.youtube.com/channel/UC_RpglAWgl88DYZsmECPlwg', 'http://www.youtube.com/channel/UCGAs0rzPgLyE8zLePkl-Y8g', 'http://www.youtube.com/channel/UCthrxD6x_fSqC2szov3GFEA', 'http://www.youtube.com/channel/UCv4fXQhSTlrLom17BYKjBlQ', 'http://www.youtube.com/channel/UCbDmLQ5gVxDT3XFE1TK9dpA', 'http://www.youtube.com/channel/UCnRjjT2krBhe7Vu_vh7jXwA', 'http://www.youtube.com/channel/UCOGwg6D9IAKVVN7IzElALMQ', 'http://www.youtube.com/channel/UCtvkg6HdrwMqIqpx-9k-QhA', 'http://www.youtube.com/channel/UClN5vsOt43zbvXa6W8zpK4Q', 'http://www.youtube.com/channel/UCcfdsRaC34Y4IKTiihYxBrQ', 'http://www.youtube.com/channel/UCDod-X7jIIjULXWv3ABpPJA', 'http://www.youtube.com/channel/UCpyqheB7uNgFj_pDKWhCmOQ', 'http://www.youtube.com/channel/UC_ZwoltA6DxKWd1K1WHaZEg', 'http://www.youtube.com/channel/UCBe9bxlrdO_O4bXPnOGv51A', 'http://www.youtube.com/channel/UC5N7Ay0oHgaePDKOlUem7kA', 'http://www.youtube.com/channel/UCc1ieiB9lX5-5NzoeMLLFLg', 'http://www.youtube.com/channel/UCJYqcXijMxp3fx0v_6MTyng', 'http://www.youtube.com/channel/UCvJJq9vwUpuaJIEYvwJ_95A', 'http://www.youtube.com/channel/UCzgCMYJWB32r0x_PVXM5WLw', 'http://www.youtube.com/channel/UCGlCpEvxJ3EMEY-fkprSKVQ', 'http://www.youtube.com/channel/UCAkqfD0PnSi5oR5ewfcbalA', 'http://www.youtube.com/channel/UC1S_b0UpG28NyJ8ZdXv5qMw', 'http://www.youtube.com/channel/UCjzqR6JzUwuKlBJoYZk8QAQ', 'http://www.youtube.com/channel/UCRfieV9gWiU8Z2APTV5rNfw', 'http://www.youtube.com/channel/UCvkTrMDNpihRUg5ucsMSzYA', 'http://www.youtube.com/channel/UCPIMU-Zr5sHR0Hav0GTbNSg', 'http://www.youtube.com/channel/UCiPlWMfVvQeqkdvlwWFoeAA', 'http://www.youtube.com/channel/UCQ3rj5PZfi9fpZ_BjGJ-1ww', 'http://www.youtube.com/channel/UCfevDku1prrgvBOJamGk4Rw', 'http://www.youtube.com/channel/UCUn_--pehGsYT8S2uFpRqJg', 'http://www.youtube.com/channel/UC1bKb0FKC_oZ311Ftgh59Rw', 'http://www.youtube.com/channel/UCMoPbefYxKnPR_ksysgo5DA', 'http://www.youtube.com/channel/UCIxbeay-kApqpeByf4x5iYQ', 'http://www.youtube.com/channel/UCHg4Z0L9SBDPfxS767PTXzw', 'http://www.youtube.com/channel/UC3nUouGGhe_ANBcbYrwv5-A', 'http://www.youtube.com/channel/UCTfJqqhDrdP4wMmmUq5LB5w', 'http://www.youtube.com/channel/UCEpoXGJ5fLgIpFnnXvxXOIw', 'http://www.youtube.com/channel/UCVPiU9YIklhU3WHUgeHnuPQ', 'http://www.youtube.com/channel/UCpfdRKTryR0XQOlUsWB99gw', 'http://www.youtube.com/channel/UCDp6oqcxHPCXrhGDEIWEG9Q', 'http://www.youtube.com/channel/UC1z4peFkrwWF3T_wEwNFRIg', 'http://www.youtube.com/channel/UCxFIU5WVIS3cj9d0SrDrH9w', 'http://www.youtube.com/channel/UC6-El39R_dcnicTZ8YUQ_EA', 'http://www.youtube.com/channel/UCGYqZH8t-5xvWeF_DZGXMCg', 'http://www.youtube.com/channel/UCAY-HjnYs1C3r0iWxJNyLlQ', 'http://www.youtube.com/channel/UCUPCBLlY3W_NQysJ4Vb6IGA', 'http://www.youtube.com/channel/UCSQH4wRZDBS17VzuvC-c0sg', 'http://www.youtube.com/channel/UChcxcMQV6eSTB8q-pbW32pQ', 'http://www.youtube.com/channel/UCZf04Qbp5LchzJ951LYRNQg', 'http://www.youtube.com/channel/UCFKF85_xOhfIqcML5Qhcp1A', 'http://www.youtube.com/channel/UCyhkBga4yJHlwzLjeh8siOA', 'http://www.youtube.com/channel/UCCQWYOX46WcZgrfIzMucxvQ', 'http://www.youtube.com/channel/UCwqVexVoSjg_mVyaW7iDX5A', 'http://www.youtube.com/channel/UCsd2sYWnsB3uNS6e2RjL5BA', 'http://www.youtube.com/channel/UCYNWlLbAB4DN1P614PFoLPA', 'http://www.youtube.com/channel/UCseyVyfkjZONnxbwqDNw5Kw', 'http://www.youtube.com/channel/UCYExgZnZfc1l6CFiRIZd_pA', 'http://www.youtube.com/channel/UCNffIf2kF2ZfugoHviMrx5w', 'http://www.youtube.com/channel/UCHvrobkYM6NP4Q_UsRQ_ocQ', 'http://www.youtube.com/channel/UCYpMZnGezKGJ3asINstfeww', 'http://www.youtube.com/channel/UCMjf4Ii0sv2wEqaNmYA85qg', 'http://www.youtube.com/channel/UCa373VIXxdc3yw9ssoN50GQ', 'http://www.youtube.com/channel/UCxkekFnELdfEuv77-n4a7Cg']\n"
     ]
    }
   ],
   "source": [
    "import requests\n",
    "from bs4 import BeautifulSoup\n",
    "from termcolor import colored\n",
    "url = driver.current_url\n",
    "\n",
    "print(url)\n",
    "\n",
    "r= requests.get(url)\n",
    "html = BeautifulSoup(r.text, 'html.parser')\n",
    "pagination = html.select('.pagination')\n",
    "\n",
    "for p in pagination:\n",
    "    LastPage = p.select('a')[-2].get_text()\n",
    "\n",
    "AllChannels = []\n",
    "AllChannelsLinks = []\n",
    "for i in range(1, int(LastPage)+1):\n",
    "    new_r= requests.get(f'{url}/page:{i}')\n",
    "    new_html = BeautifulSoup(new_r.text, 'html.parser')\n",
    "    channels = new_html.select('.channel')\n",
    "    for channel in channels:\n",
    "        title = channel.select('a')[0].get_text()\n",
    "        link = channel.select('a')[0]['href']\n",
    "        AllChannels.append(title)\n",
    "        AllChannelsLinks.append(link)\n",
    "        print(colored(f'{len(AllChannels)} results found','red'))\n",
    "\n",
    "print(AllChannels)\n",
    "print(AllChannelsLinks)\n"
   ]
  },
  {
   "cell_type": "code",
   "execution_count": null,
   "id": "9d27a511",
   "metadata": {},
   "outputs": [],
   "source": []
  }
 ],
 "metadata": {
  "kernelspec": {
   "display_name": "Python 3 (ipykernel)",
   "language": "python",
   "name": "python3"
  },
  "language_info": {
   "codemirror_mode": {
    "name": "ipython",
    "version": 3
   },
   "file_extension": ".py",
   "mimetype": "text/x-python",
   "name": "python",
   "nbconvert_exporter": "python",
   "pygments_lexer": "ipython3",
   "version": "3.10.4"
  }
 },
 "nbformat": 4,
 "nbformat_minor": 5
}
