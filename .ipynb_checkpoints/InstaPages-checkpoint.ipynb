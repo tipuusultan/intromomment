{
 "cells": [
  {
   "cell_type": "code",
   "execution_count": 1,
   "id": "282df07d",
   "metadata": {},
   "outputs": [],
   "source": [
    "from requests_html import HTMLSession\n",
    "from selenium import webdriver\n",
    "import nest_asyncio\n",
    "\n",
    "# url = 'https://hypeauditor.com/top-instagram-all-hong-kong/'\n",
    "url ='https://hypeauditor.com/top-youtube-all-hong-kong/'\n",
    "LOGIN_URL = 'https://hypeauditor.com/login/'"
   ]
  },
  {
   "cell_type": "code",
   "execution_count": 2,
   "id": "4518be16",
   "metadata": {},
   "outputs": [
    {
     "name": "stdout",
     "output_type": "stream",
     "text": [
      "20\n"
     ]
    },
    {
     "name": "stderr",
     "output_type": "stream",
     "text": [
      "C:\\Users\\Mr Sultan\\AppData\\Local\\Temp\\ipykernel_4920\\620631051.py:5: RuntimeWarning: coroutine 'HTML.arender' was never awaited\n",
      "  r.html.arender()\n",
      "RuntimeWarning: Enable tracemalloc to get the object allocation traceback\n"
     ]
    }
   ],
   "source": [
    "nest_asyncio.apply()\n",
    "\n",
    "session = HTMLSession()\n",
    "r = session.get(url)\n",
    "r.html.arender()\n",
    "pages = r.html.find('.pager__button', first=False)\n",
    "NoOfPages = []\n",
    "\n",
    "for page in pages:\n",
    "    NoOfPages.append(page)\n",
    "\n",
    "lastPage = NoOfPages[-2].text\n",
    "print(lastPage)"
   ]
  },
  {
   "cell_type": "code",
   "execution_count": 3,
   "id": "4b241f8b",
   "metadata": {},
   "outputs": [
    {
     "name": "stderr",
     "output_type": "stream",
     "text": [
      "C:\\Users\\Mr Sultan\\AppData\\Local\\Temp\\ipykernel_4920\\1342093594.py:1: DeprecationWarning: executable_path has been deprecated, please pass in a Service object\n",
      "  driver = webdriver.Chrome('C:/chromedriver.exe')\n"
     ]
    }
   ],
   "source": [
    "driver = webdriver.Chrome('C:/chromedriver.exe')\n",
    "driver.get(LOGIN_URL)"
   ]
  },
  {
   "cell_type": "code",
   "execution_count": 4,
   "id": "dd6cfd06",
   "metadata": {},
   "outputs": [
    {
     "name": "stderr",
     "output_type": "stream",
     "text": [
      "C:\\Users\\Mr Sultan\\AppData\\Local\\Temp\\ipykernel_4920\\788469271.py:1: DeprecationWarning: find_element_by_* commands are deprecated. Please use find_element() instead\n",
      "  Email_Field = driver.find_element_by_xpath('//*[@id=\"email\"]')\n",
      "C:\\Users\\Mr Sultan\\AppData\\Local\\Temp\\ipykernel_4920\\788469271.py:2: DeprecationWarning: find_element_by_* commands are deprecated. Please use find_element() instead\n",
      "  Pass_Field = driver.find_element_by_xpath('//*[@id=\"password\"]')\n",
      "C:\\Users\\Mr Sultan\\AppData\\Local\\Temp\\ipykernel_4920\\788469271.py:3: DeprecationWarning: find_element_by_* commands are deprecated. Please use find_element() instead\n",
      "  submit_btn = driver.find_element_by_xpath('//*[@id=\"login-form-wrap\"]/form[1]/button')\n"
     ]
    }
   ],
   "source": [
    "Email_Field = driver.find_element_by_xpath('//*[@id=\"email\"]')\n",
    "Pass_Field = driver.find_element_by_xpath('//*[@id=\"password\"]')\n",
    "submit_btn = driver.find_element_by_xpath('//*[@id=\"login-form-wrap\"]/form[1]/button')\n",
    "\n",
    "Email_Field.send_keys('hey.tipusultan@gmail.com')\n",
    "Pass_Field.send_keys('TIPUsultan')\n",
    "submit_btn.click()"
   ]
  },
  {
   "cell_type": "code",
   "execution_count": 10,
   "id": "e202ae5d",
   "metadata": {},
   "outputs": [
    {
     "name": "stderr",
     "output_type": "stream",
     "text": [
      "C:\\Users\\Mr Sultan\\AppData\\Local\\Temp\\ipykernel_4920\\3015952993.py:10: DeprecationWarning: find_elements_by_* commands are deprecated. Please use find_elements() instead\n",
      "  username = driver.find_elements_by_class_name('contributor__name-content')\n",
      "C:\\Users\\Mr Sultan\\AppData\\Local\\Temp\\ipykernel_4920\\3015952993.py:12: DeprecationWarning: find_elements_by_* commands are deprecated. Please use find_elements() instead\n",
      "  boxes = driver.find_elements_by_class_name('')\n"
     ]
    },
    {
     "ename": "InvalidSelectorException",
     "evalue": "Message: invalid selector: An invalid or illegal selector was specified\n  (Session info: chrome=106.0.5249.119)\nStacktrace:\nBacktrace:\n\tOrdinal0 [0x010C1ED3+2236115]\n\tOrdinal0 [0x010592F1+1807089]\n\tOrdinal0 [0x00F666FD+812797]\n\tOrdinal0 [0x00F692B4+823988]\n\tOrdinal0 [0x00F69165+823653]\n\tOrdinal0 [0x00F69400+824320]\n\tOrdinal0 [0x00F95352+1004370]\n\tOrdinal0 [0x00F957CB+1005515]\n\tOrdinal0 [0x00FC766C+1209964]\n\tOrdinal0 [0x00FB1AD4+1120980]\n\tOrdinal0 [0x00FC59E2+1202658]\n\tOrdinal0 [0x00FB18A6+1120422]\n\tOrdinal0 [0x00F8A73D+960317]\n\tOrdinal0 [0x00F8B71F+964383]\n\tGetHandleVerifier [0x0136E7E2+2743074]\n\tGetHandleVerifier [0x013608D4+2685972]\n\tGetHandleVerifier [0x01152BAA+532202]\n\tGetHandleVerifier [0x01151990+527568]\n\tOrdinal0 [0x0106080C+1837068]\n\tOrdinal0 [0x01064CD8+1854680]\n\tOrdinal0 [0x01064DC5+1854917]\n\tOrdinal0 [0x0106ED64+1895780]\n\tBaseThreadInitThunk [0x7647FA29+25]\n\tRtlGetAppContainerNamedObjectPath [0x77D87BBE+286]\n\tRtlGetAppContainerNamedObjectPath [0x77D87B8E+238]\n",
     "output_type": "error",
     "traceback": [
      "\u001b[1;31m---------------------------------------------------------------------------\u001b[0m",
      "\u001b[1;31mInvalidSelectorException\u001b[0m                  Traceback (most recent call last)",
      "Input \u001b[1;32mIn [10]\u001b[0m, in \u001b[0;36m<cell line: 5>\u001b[1;34m()\u001b[0m\n\u001b[0;32m      9\u001b[0m driver\u001b[38;5;241m.\u001b[39mget(NEW_URL)\n\u001b[0;32m     10\u001b[0m username \u001b[38;5;241m=\u001b[39m driver\u001b[38;5;241m.\u001b[39mfind_elements_by_class_name(\u001b[38;5;124m'\u001b[39m\u001b[38;5;124mcontributor__name-content\u001b[39m\u001b[38;5;124m'\u001b[39m)\n\u001b[1;32m---> 12\u001b[0m boxes \u001b[38;5;241m=\u001b[39m \u001b[43mdriver\u001b[49m\u001b[38;5;241;43m.\u001b[39;49m\u001b[43mfind_elements_by_class_name\u001b[49m\u001b[43m(\u001b[49m\u001b[38;5;124;43m'\u001b[39;49m\u001b[38;5;124;43m'\u001b[39;49m\u001b[43m)\u001b[49m\n\u001b[0;32m     13\u001b[0m urls \u001b[38;5;241m=\u001b[39m driver\u001b[38;5;241m.\u001b[39mfind_elements_by_css_selector(\u001b[38;5;124m'\u001b[39m\u001b[38;5;124m.contributor__content a\u001b[39m\u001b[38;5;124m'\u001b[39m)\n\u001b[0;32m     15\u001b[0m \u001b[38;5;28;01mfor\u001b[39;00m user \u001b[38;5;129;01min\u001b[39;00m username:\n",
      "File \u001b[1;32m~\\AppData\\Local\\Programs\\Python\\Python310\\lib\\site-packages\\selenium\\webdriver\\remote\\webdriver.py:783\u001b[0m, in \u001b[0;36mWebDriver.find_elements_by_class_name\u001b[1;34m(self, name)\u001b[0m\n\u001b[0;32m    763\u001b[0m \u001b[38;5;124;03m\"\"\"\u001b[39;00m\n\u001b[0;32m    764\u001b[0m \u001b[38;5;124;03mFinds elements by class name.\u001b[39;00m\n\u001b[0;32m    765\u001b[0m \n\u001b[1;32m   (...)\u001b[0m\n\u001b[0;32m    776\u001b[0m \u001b[38;5;124;03m        elements = driver.find_elements_by_class_name('foo')\u001b[39;00m\n\u001b[0;32m    777\u001b[0m \u001b[38;5;124;03m\"\"\"\u001b[39;00m\n\u001b[0;32m    778\u001b[0m warnings\u001b[38;5;241m.\u001b[39mwarn(\n\u001b[0;32m    779\u001b[0m     \u001b[38;5;124m\"\u001b[39m\u001b[38;5;124mfind_elements_by_* commands are deprecated. Please use find_elements() instead\u001b[39m\u001b[38;5;124m\"\u001b[39m,\n\u001b[0;32m    780\u001b[0m     \u001b[38;5;167;01mDeprecationWarning\u001b[39;00m,\n\u001b[0;32m    781\u001b[0m     stacklevel\u001b[38;5;241m=\u001b[39m\u001b[38;5;241m2\u001b[39m,\n\u001b[0;32m    782\u001b[0m )\n\u001b[1;32m--> 783\u001b[0m \u001b[38;5;28;01mreturn\u001b[39;00m \u001b[38;5;28;43mself\u001b[39;49m\u001b[38;5;241;43m.\u001b[39;49m\u001b[43mfind_elements\u001b[49m\u001b[43m(\u001b[49m\u001b[43mby\u001b[49m\u001b[38;5;241;43m=\u001b[39;49m\u001b[43mBy\u001b[49m\u001b[38;5;241;43m.\u001b[39;49m\u001b[43mCLASS_NAME\u001b[49m\u001b[43m,\u001b[49m\u001b[43m \u001b[49m\u001b[43mvalue\u001b[49m\u001b[38;5;241;43m=\u001b[39;49m\u001b[43mname\u001b[49m\u001b[43m)\u001b[49m\n",
      "File \u001b[1;32m~\\AppData\\Local\\Programs\\Python\\Python310\\lib\\site-packages\\selenium\\webdriver\\remote\\webdriver.py:1279\u001b[0m, in \u001b[0;36mWebDriver.find_elements\u001b[1;34m(self, by, value)\u001b[0m\n\u001b[0;32m   1275\u001b[0m     value \u001b[38;5;241m=\u001b[39m \u001b[38;5;124m'\u001b[39m\u001b[38;5;124m[name=\u001b[39m\u001b[38;5;124m\"\u001b[39m\u001b[38;5;132;01m%s\u001b[39;00m\u001b[38;5;124m\"\u001b[39m\u001b[38;5;124m]\u001b[39m\u001b[38;5;124m'\u001b[39m \u001b[38;5;241m%\u001b[39m value\n\u001b[0;32m   1277\u001b[0m \u001b[38;5;66;03m# Return empty list if driver returns null\u001b[39;00m\n\u001b[0;32m   1278\u001b[0m \u001b[38;5;66;03m# See https://github.com/SeleniumHQ/selenium/issues/4555\u001b[39;00m\n\u001b[1;32m-> 1279\u001b[0m \u001b[38;5;28;01mreturn\u001b[39;00m \u001b[38;5;28;43mself\u001b[39;49m\u001b[38;5;241;43m.\u001b[39;49m\u001b[43mexecute\u001b[49m\u001b[43m(\u001b[49m\u001b[43mCommand\u001b[49m\u001b[38;5;241;43m.\u001b[39;49m\u001b[43mFIND_ELEMENTS\u001b[49m\u001b[43m,\u001b[49m\u001b[43m \u001b[49m\u001b[43m{\u001b[49m\n\u001b[0;32m   1280\u001b[0m \u001b[43m    \u001b[49m\u001b[38;5;124;43m'\u001b[39;49m\u001b[38;5;124;43musing\u001b[39;49m\u001b[38;5;124;43m'\u001b[39;49m\u001b[43m:\u001b[49m\u001b[43m \u001b[49m\u001b[43mby\u001b[49m\u001b[43m,\u001b[49m\n\u001b[0;32m   1281\u001b[0m \u001b[43m    \u001b[49m\u001b[38;5;124;43m'\u001b[39;49m\u001b[38;5;124;43mvalue\u001b[39;49m\u001b[38;5;124;43m'\u001b[39;49m\u001b[43m:\u001b[49m\u001b[43m \u001b[49m\u001b[43mvalue\u001b[49m\u001b[43m}\u001b[49m\u001b[43m)\u001b[49m[\u001b[38;5;124m'\u001b[39m\u001b[38;5;124mvalue\u001b[39m\u001b[38;5;124m'\u001b[39m] \u001b[38;5;129;01mor\u001b[39;00m []\n",
      "File \u001b[1;32m~\\AppData\\Local\\Programs\\Python\\Python310\\lib\\site-packages\\selenium\\webdriver\\remote\\webdriver.py:424\u001b[0m, in \u001b[0;36mWebDriver.execute\u001b[1;34m(self, driver_command, params)\u001b[0m\n\u001b[0;32m    422\u001b[0m response \u001b[38;5;241m=\u001b[39m \u001b[38;5;28mself\u001b[39m\u001b[38;5;241m.\u001b[39mcommand_executor\u001b[38;5;241m.\u001b[39mexecute(driver_command, params)\n\u001b[0;32m    423\u001b[0m \u001b[38;5;28;01mif\u001b[39;00m response:\n\u001b[1;32m--> 424\u001b[0m     \u001b[38;5;28;43mself\u001b[39;49m\u001b[38;5;241;43m.\u001b[39;49m\u001b[43merror_handler\u001b[49m\u001b[38;5;241;43m.\u001b[39;49m\u001b[43mcheck_response\u001b[49m\u001b[43m(\u001b[49m\u001b[43mresponse\u001b[49m\u001b[43m)\u001b[49m\n\u001b[0;32m    425\u001b[0m     response[\u001b[38;5;124m'\u001b[39m\u001b[38;5;124mvalue\u001b[39m\u001b[38;5;124m'\u001b[39m] \u001b[38;5;241m=\u001b[39m \u001b[38;5;28mself\u001b[39m\u001b[38;5;241m.\u001b[39m_unwrap_value(\n\u001b[0;32m    426\u001b[0m         response\u001b[38;5;241m.\u001b[39mget(\u001b[38;5;124m'\u001b[39m\u001b[38;5;124mvalue\u001b[39m\u001b[38;5;124m'\u001b[39m, \u001b[38;5;28;01mNone\u001b[39;00m))\n\u001b[0;32m    427\u001b[0m     \u001b[38;5;28;01mreturn\u001b[39;00m response\n",
      "File \u001b[1;32m~\\AppData\\Local\\Programs\\Python\\Python310\\lib\\site-packages\\selenium\\webdriver\\remote\\errorhandler.py:247\u001b[0m, in \u001b[0;36mErrorHandler.check_response\u001b[1;34m(self, response)\u001b[0m\n\u001b[0;32m    245\u001b[0m         alert_text \u001b[38;5;241m=\u001b[39m value[\u001b[38;5;124m'\u001b[39m\u001b[38;5;124malert\u001b[39m\u001b[38;5;124m'\u001b[39m]\u001b[38;5;241m.\u001b[39mget(\u001b[38;5;124m'\u001b[39m\u001b[38;5;124mtext\u001b[39m\u001b[38;5;124m'\u001b[39m)\n\u001b[0;32m    246\u001b[0m     \u001b[38;5;28;01mraise\u001b[39;00m exception_class(message, screen, stacktrace, alert_text)  \u001b[38;5;66;03m# type: ignore[call-arg]  # mypy is not smart enough here\u001b[39;00m\n\u001b[1;32m--> 247\u001b[0m \u001b[38;5;28;01mraise\u001b[39;00m exception_class(message, screen, stacktrace)\n",
      "\u001b[1;31mInvalidSelectorException\u001b[0m: Message: invalid selector: An invalid or illegal selector was specified\n  (Session info: chrome=106.0.5249.119)\nStacktrace:\nBacktrace:\n\tOrdinal0 [0x010C1ED3+2236115]\n\tOrdinal0 [0x010592F1+1807089]\n\tOrdinal0 [0x00F666FD+812797]\n\tOrdinal0 [0x00F692B4+823988]\n\tOrdinal0 [0x00F69165+823653]\n\tOrdinal0 [0x00F69400+824320]\n\tOrdinal0 [0x00F95352+1004370]\n\tOrdinal0 [0x00F957CB+1005515]\n\tOrdinal0 [0x00FC766C+1209964]\n\tOrdinal0 [0x00FB1AD4+1120980]\n\tOrdinal0 [0x00FC59E2+1202658]\n\tOrdinal0 [0x00FB18A6+1120422]\n\tOrdinal0 [0x00F8A73D+960317]\n\tOrdinal0 [0x00F8B71F+964383]\n\tGetHandleVerifier [0x0136E7E2+2743074]\n\tGetHandleVerifier [0x013608D4+2685972]\n\tGetHandleVerifier [0x01152BAA+532202]\n\tGetHandleVerifier [0x01151990+527568]\n\tOrdinal0 [0x0106080C+1837068]\n\tOrdinal0 [0x01064CD8+1854680]\n\tOrdinal0 [0x01064DC5+1854917]\n\tOrdinal0 [0x0106ED64+1895780]\n\tBaseThreadInitThunk [0x7647FA29+25]\n\tRtlGetAppContainerNamedObjectPath [0x77D87BBE+286]\n\tRtlGetAppContainerNamedObjectPath [0x77D87B8E+238]\n"
     ]
    }
   ],
   "source": [
    "AllUsers = []\n",
    "AllCategorie = []\n",
    "AllURLS = []\n",
    "\n",
    "for i in range(1,int(lastPage)+1):\n",
    "    AllCat = []\n",
    "    \n",
    "    NEW_URL = f'{url}?p={i}'\n",
    "    driver.get(NEW_URL)\n",
    "    username = driver.find_elements_by_class_name('contributor__name-content')\n",
    "    \n",
    "    urls = driver.find_elements_by_css_selector('.contributor__content a')\n",
    "\n",
    "    for user in username:\n",
    "        AllUsers.append(user.text)\n",
    "        \n",
    "    for url in urls:\n",
    "        AllURLS.append(url.get_attribute('href'))\n",
    "        \n",
    "    for sn in range(2,52):\n",
    "        category = driver.find_elements_by_xpath(f'//*[@id=\"__layout\"]/div/div[1]/div/div[2]/div/div[2]/div/div[{sn}]/div[1]/div[3]/div')\n",
    "        AllCat.append(category)\n",
    "\n",
    "    for c in AllCat:\n",
    "        if len(c) == 0:\n",
    "            AllCategorie.append('People & Blogs')\n",
    "\n",
    "        else:\n",
    "            text = c[0].text\n",
    "            print(text)\n",
    "            AllCategorie.append(text)"
   ]
  },
  {
   "cell_type": "code",
   "execution_count": 8,
   "id": "742a8e55",
   "metadata": {},
   "outputs": [
    {
     "name": "stdout",
     "output_type": "stream",
     "text": [
      "mreasonchan\n",
      "No Category\n"
     ]
    }
   ],
   "source": [
    "print(AllUsers[13])\n",
    "print(AllCategorie[13])"
   ]
  },
  {
   "cell_type": "code",
   "execution_count": 7,
   "id": "e86ebd7d",
   "metadata": {},
   "outputs": [
    {
     "name": "stdout",
     "output_type": "stream",
     "text": [
      "Please enter File Name:-  top1000channels\n"
     ]
    }
   ],
   "source": [
    "import os\n",
    "import pandas as pd\n",
    "from pandas import DataFrame\n",
    "\n",
    "def WriteData(FileName, username, category):\n",
    "    df = DataFrame({'id':id , 'Username': username, 'Category': category})\n",
    "    df.to_excel(f'output/{FileName}.xlsx', sheet_name='sheet1', index=False)\n",
    "    \n",
    "# creating output folder if not exist\n",
    "if not os.path.exists('output'):\n",
    "    os.makedirs('output')\n",
    "FileName = str(input('Please enter File Name:-  '))\n",
    "\n",
    "WriteData(FileName,AllUsers, AllCategorie)"
   ]
  },
  {
   "cell_type": "code",
   "execution_count": null,
   "id": "dc650c31",
   "metadata": {},
   "outputs": [],
   "source": []
  }
 ],
 "metadata": {
  "kernelspec": {
   "display_name": "Python 3 (ipykernel)",
   "language": "python",
   "name": "python3"
  },
  "language_info": {
   "codemirror_mode": {
    "name": "ipython",
    "version": 3
   },
   "file_extension": ".py",
   "mimetype": "text/x-python",
   "name": "python",
   "nbconvert_exporter": "python",
   "pygments_lexer": "ipython3",
   "version": "3.10.4"
  }
 },
 "nbformat": 4,
 "nbformat_minor": 5
}
